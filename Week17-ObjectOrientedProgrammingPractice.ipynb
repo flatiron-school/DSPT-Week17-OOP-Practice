{
 "cells": [
  {
   "cell_type": "markdown",
   "metadata": {},
   "source": [
    "# Object Oriented Programing Practice: The Battle to End All Battles"
   ]
  },
  {
   "cell_type": "markdown",
   "metadata": {},
   "source": [
    "Our goal is to create the most epic battle: **Godzilla vs Mothra**"
   ]
  },
  {
   "cell_type": "markdown",
   "metadata": {},
   "source": [
    "![Black and white picture of Godzilla and Mothra; Mothra flying to the upper left of Godzilla](images/godzilla_vs_mothra.png)"
   ]
  },
  {
   "cell_type": "markdown",
   "metadata": {
    "ExecuteTime": {
     "end_time": "2019-09-05T19:28:42.761136Z",
     "start_time": "2019-09-05T19:28:42.758251Z"
    }
   },
   "source": [
    "In the end, it should look something like this:\n",
    "    \n",
    "```python\n",
    "mothra.yell_battle_cry()\n",
    "godzilla.yell_battle_cry()\n",
    "\n",
    "winner = mothra.battles(godzilla)\n",
    "\n",
    "print(winner.name)\n",
    "winner.yell_battle_cry()\n",
    "\n",
    "```"
   ]
  },
  {
   "cell_type": "markdown",
   "metadata": {},
   "source": [
    "## But baby steps first!"
   ]
  },
  {
   "cell_type": "markdown",
   "metadata": {},
   "source": [
    "Let's build a Class called [`Megafauna`](https://en.wikipedia.org/wiki/Megafauna) so that we can set up other epic battles besides this one. So [Godzilla](https://en.wikipedia.org/wiki/Godzilla) & [Mothra](https://en.wikipedia.org/wiki/Mothra) will be instantiated from this Class."
   ]
  },
  {
   "cell_type": "markdown",
   "metadata": {},
   "source": [
    "This `Megafauna` Class should at the very least include these properties & methods: \n",
    "\n",
    "- `animal_type` - property (mammal, reptile, amphibian, etc.)\n",
    "- `height` - property (in meters)\n",
    "- `weight` - property (in kilograms)\n",
    "- `battle_cry` - property (what they should yell at their opponent)\n",
    "- `yell_battle_cry()` - method to yell at their opponent (based on their `battle_cry`)\n",
    "- `battle()` - method to battle another `Megafauna` Object, and to return the winner of the battle (no draws)\n",
    "- `opponents_defeated` - property, a record of which opponents they've defeated\n",
    "\n",
    "A Megafauna will win if it's heavier than its opponent. If they have the same weight, then the taller one should be victorious!"
   ]
  },
  {
   "cell_type": "code",
   "execution_count": null,
   "metadata": {},
   "outputs": [],
   "source": [
    "# STARTER CODE\n",
    "class Megafauna():\n",
    "    # defaults/initiate\n",
    "    # properties\n",
    "    # methods"
   ]
  },
  {
   "cell_type": "markdown",
   "metadata": {},
   "source": [
    "## It's Godzilla!!!"
   ]
  },
  {
   "cell_type": "markdown",
   "metadata": {},
   "source": [
    "Now create `godzilla` with all the necessary parts to take on their rival!"
   ]
  },
  {
   "cell_type": "code",
   "execution_count": null,
   "metadata": {},
   "outputs": [],
   "source": [
    "# Instantiate your Godzilla object\n",
    "godzilla = # your code"
   ]
  },
  {
   "cell_type": "markdown",
   "metadata": {},
   "source": [
    "## Mothra Appears!"
   ]
  },
  {
   "cell_type": "markdown",
   "metadata": {},
   "source": [
    "Now we need the all powerful `mothra` so they challenge the amphibious beast!"
   ]
  },
  {
   "cell_type": "code",
   "execution_count": null,
   "metadata": {},
   "outputs": [],
   "source": [
    "# Instantiate your Mothra object\n",
    "mothra = # your code"
   ]
  },
  {
   "cell_type": "markdown",
   "metadata": {},
   "source": [
    "# BATTLE TIME!!!"
   ]
  },
  {
   "cell_type": "markdown",
   "metadata": {},
   "source": [
    "Now let's watch this epic battle!\n",
    "\n",
    "![Stephen Colbert joyfully eating popcorn while wearing red-blue 3D glasses.](images/eating_popcorn.gif)"
   ]
  },
  {
   "cell_type": "markdown",
   "metadata": {},
   "source": [
    "Code below for their battle below! \n",
    "\n",
    "Make sure the code can print out the winner!!! Feel free to add any extra flair to the battle"
   ]
  },
  {
   "cell_type": "code",
   "execution_count": null,
   "metadata": {},
   "outputs": [],
   "source": [
    "# CODE HERE TO BATTLE MOTHRA & GODZILLA!!!"
   ]
  },
  {
   "cell_type": "markdown",
   "metadata": {},
   "source": [
    "## Additional Practice\n",
    "\n",
    "Add other Megafauna, like [King Kong](https://en.wikipedia.org/wiki/King_Kong), or make the competition more fierce by adding more properties to the original Megafauna class which then factor in to the battle!"
   ]
  },
  {
   "cell_type": "code",
   "execution_count": null,
   "metadata": {},
   "outputs": [],
   "source": []
  }
 ],
 "metadata": {
  "kernelspec": {
   "display_name": "Python 3",
   "language": "python",
   "name": "python3"
  },
  "language_info": {
   "codemirror_mode": {
    "name": "ipython",
    "version": 3
   },
   "file_extension": ".py",
   "mimetype": "text/x-python",
   "name": "python",
   "nbconvert_exporter": "python",
   "pygments_lexer": "ipython3",
   "version": "3.8.5"
  },
  "toc": {
   "base_numbering": 1,
   "nav_menu": {},
   "number_sections": true,
   "sideBar": true,
   "skip_h1_title": false,
   "title_cell": "Table of Contents",
   "title_sidebar": "Contents",
   "toc_cell": true,
   "toc_position": {},
   "toc_section_display": true,
   "toc_window_display": true
  },
  "varInspector": {
   "cols": {
    "lenName": 16,
    "lenType": 16,
    "lenVar": 40
   },
   "kernels_config": {
    "python": {
     "delete_cmd_postfix": "",
     "delete_cmd_prefix": "del ",
     "library": "var_list.py",
     "varRefreshCmd": "print(var_dic_list())"
    },
    "r": {
     "delete_cmd_postfix": ") ",
     "delete_cmd_prefix": "rm(",
     "library": "var_list.r",
     "varRefreshCmd": "cat(var_dic_list()) "
    }
   },
   "types_to_exclude": [
    "module",
    "function",
    "builtin_function_or_method",
    "instance",
    "_Feature"
   ],
   "window_display": false
  }
 },
 "nbformat": 4,
 "nbformat_minor": 2
}
